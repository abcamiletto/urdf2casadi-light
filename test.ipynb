{
 "cells": [
  {
   "cell_type": "code",
   "execution_count": 1,
   "metadata": {},
   "outputs": [],
   "source": [
    "import casadi as cs\n",
    "from urdf_parser_py.urdf import URDF, Pose\n",
    "import urdf2casadi.urdfparser\n",
    "\n",
    "import os # For current directory"
   ]
  },
  {
   "cell_type": "code",
   "execution_count": 2,
   "metadata": {},
   "outputs": [],
   "source": [
    "# urdf2casadi uses cs.MX and cs.SX, which can be hard to read as these are sparse matrices.\n",
    "# This short function just makes it so that the result will be a numpy matrix\n",
    "# Use for \n",
    "def cs2np(asd):\n",
    "    return cs.Function(\"temp\",[],[asd])()[\"o0\"].toarray()\n",
    "# NOTE: casadi imports numpy as np, so cs.np is numpy"
   ]
  },
  {
   "cell_type": "code",
   "execution_count": 3,
   "metadata": {},
   "outputs": [],
   "source": [
    "asd = urdf2casadi.urdfparser.URDFparser()"
   ]
  },
  {
   "cell_type": "code",
   "execution_count": 4,
   "metadata": {},
   "outputs": [
    {
     "name": "stdout",
     "output_type": "stream",
     "text": [
      "./examples/urdf/ur5.urdf\n",
      "['q', 'upper', 'lower', 'dual_quaternion_fk', 'joint_names', 'T_fk', 'joint_list', 'quaternion_fk']\n"
     ]
    }
   ],
   "source": [
    "asd.from_file(\"./examples/urdf/ur5.urdf\")\n",
    "root_link = \"base_link\"\n",
    "end_link = \"tool0\"\n",
    "#print asd.robot_desc\n",
    "fk_dict = asd.get_forward_kinematics(root_link, end_link)\n",
    "print fk_dict.keys()"
   ]
  },
  {
   "cell_type": "code",
   "execution_count": 5,
   "metadata": {},
   "outputs": [
    {
     "name": "stdout",
     "output_type": "stream",
     "text": [
      "[array([[0.00443333, 0.        , 0.        , 0.        , 0.        ,\n",
      "        0.        ],\n",
      "       [0.        , 0.        , 0.00443333, 0.        , 0.        ,\n",
      "        0.        ],\n",
      "       [0.        , 0.00443333, 0.0072    , 0.        , 0.        ,\n",
      "        0.        ],\n",
      "       [0.        , 0.        , 0.        , 4.        , 0.        ,\n",
      "        0.        ],\n",
      "       [0.        , 0.        , 0.        , 0.        , 4.        ,\n",
      "        0.        ],\n",
      "       [0.        , 0.        , 0.        , 0.        , 0.        ,\n",
      "        4.        ]]), array([[0.0102675, 0.       , 0.       , 0.       , 0.       , 0.       ],\n",
      "       [0.       , 0.       , 0.0102675, 0.       , 0.       , 0.       ],\n",
      "       [0.       , 0.0102675, 0.00666  , 0.       , 0.       , 0.       ],\n",
      "       [0.       , 0.       , 0.       , 3.7      , 0.       , 0.       ],\n",
      "       [0.       , 0.       , 0.       , 0.       , 3.7      , 0.       ],\n",
      "       [0.       , 0.       , 0.       , 0.       , 0.       , 3.7      ]]), array([[0.22689068, 0.        , 0.        , 0.        , 0.        ,\n",
      "        0.        ],\n",
      "       [0.        , 0.        , 0.22689068, 0.        , 0.        ,\n",
      "        0.        ],\n",
      "       [0.        , 0.22689068, 0.0151074 , 0.        , 0.        ,\n",
      "        0.        ],\n",
      "       [0.        , 0.        , 0.        , 8.393     , 0.        ,\n",
      "        0.        ],\n",
      "       [0.        , 0.        , 0.        , 0.        , 8.393     ,\n",
      "        0.        ],\n",
      "       [0.        , 0.        , 0.        , 0.        , 0.        ,\n",
      "        8.393     ]]), array([[0.04944331, 0.        , 0.        , 0.        , 0.        ,\n",
      "        0.        ],\n",
      "       [0.        , 0.        , 0.04944331, 0.        , 0.        ,\n",
      "        0.        ],\n",
      "       [0.        , 0.04944331, 0.004095  , 0.        , 0.        ,\n",
      "        0.        ],\n",
      "       [0.        , 0.        , 0.        , 2.275     , 0.        ,\n",
      "        0.        ],\n",
      "       [0.        , 0.        , 0.        , 0.        , 2.275     ,\n",
      "        0.        ],\n",
      "       [0.        , 0.        , 0.        , 0.        , 0.        ,\n",
      "        2.275     ]]), array([[0.11117276, 0.        , 0.        , 0.        , 0.        ,\n",
      "        0.        ],\n",
      "       [0.        , 0.        , 0.11117276, 0.        , 0.        ,\n",
      "        0.        ],\n",
      "       [0.        , 0.11117276, 0.21942   , 0.        , 0.        ,\n",
      "        0.        ],\n",
      "       [0.        , 0.        , 0.        , 1.219     , 0.        ,\n",
      "        0.        ],\n",
      "       [0.        , 0.        , 0.        , 0.        , 1.219     ,\n",
      "        0.        ],\n",
      "       [0.        , 0.        , 0.        , 0.        , 0.        ,\n",
      "        1.219     ]]), array([[0.11117276, 0.        , 0.        , 0.        , 0.        ,\n",
      "        0.        ],\n",
      "       [0.        , 0.        , 0.11117276, 0.        , 0.        ,\n",
      "        0.        ],\n",
      "       [0.        , 0.11117276, 0.21942   , 0.        , 0.        ,\n",
      "        0.        ],\n",
      "       [0.        , 0.        , 0.        , 1.219     , 0.        ,\n",
      "        0.        ],\n",
      "       [0.        , 0.        , 0.        , 0.        , 1.219     ,\n",
      "        0.        ],\n",
      "       [0.        , 0.        , 0.        , 0.        , 0.        ,\n",
      "        1.219     ]]), array([[0.01713647, 0.        , 0.        , 0.        , 0.        ,\n",
      "        0.        ],\n",
      "       [0.        , 0.        , 0.01713647, 0.        , 0.        ,\n",
      "        0.        ],\n",
      "       [0.        , 0.01713647, 0.033822  , 0.        , 0.        ,\n",
      "        0.        ],\n",
      "       [0.        , 0.        , 0.        , 0.1879    , 0.        ,\n",
      "        0.        ],\n",
      "       [0.        , 0.        , 0.        , 0.        , 0.1879    ,\n",
      "        0.        ],\n",
      "       [0.        , 0.        , 0.        , 0.        , 0.        ,\n",
      "        0.1879    ]])]\n"
     ]
    }
   ],
   "source": [
    "inertias = asd.get_spatial_inertias(root_link, end_link)\n",
    "print(inertias)"
   ]
  },
  {
   "cell_type": "code",
   "execution_count": 6,
   "metadata": {},
   "outputs": [
    {
     "name": "stdout",
     "output_type": "stream",
     "text": [
      "Number of joints: 6\n",
      "Upper limits: [6.28318530718, 6.28318530718, 3.14159265359, 6.28318530718, 6.28318530718, 6.28318530718]\n",
      "Lower limits: [-6.28318530718, -6.28318530718, -3.14159265359, -6.28318530718, -6.28318530718, -6.28318530718]\n",
      "Joint names: ['shoulder_pan_joint', 'shoulder_lift_joint', 'elbow_joint', 'wrist_1_joint', 'wrist_2_joint', 'wrist_3_joint']\n"
     ]
    }
   ],
   "source": [
    "# CasADi MX symbol giving the joint symbols:\n",
    "q = fk_dict[\"q\"]\n",
    "# Upper limits of the joint values\n",
    "q_upper = fk_dict[\"upper\"]\n",
    "# Lower limits of the joint values\n",
    "q_lower = fk_dict[\"lower\"]\n",
    "# Joint names\n",
    "joint_names = fk_dict[\"joint_names\"]\n",
    "print \"Number of joints:\", q.size()[0]\n",
    "print \"Upper limits:\", q_upper\n",
    "print \"Lower limits:\", q_lower\n",
    "print \"Joint names:\", joint_names"
   ]
  },
  {
   "cell_type": "code",
   "execution_count": 7,
   "metadata": {},
   "outputs": [
    {
     "name": "stdout",
     "output_type": "stream",
     "text": [
      "Transformation matrix:\n",
      "[[-1.00000000e+00 -9.79317772e-12  4.79531649e-23  8.17250000e-01]\n",
      " [ 0.00000000e+00  4.89658886e-12  1.00000000e+00  1.91450000e-01]\n",
      " [-9.79317772e-12  1.00000000e+00 -4.89658886e-12 -5.49100000e-03]\n",
      " [ 0.00000000e+00  0.00000000e+00  0.00000000e+00  1.00000000e+00]]\n",
      "Position:\n",
      "x: 0.81725  y: 0.19145  z: -0.005491\n",
      "Distance from origin:\n",
      "0.8393931236807168 m\n"
     ]
    }
   ],
   "source": [
    "T0 = fk_dict[\"T_fk\"]([0., 0., 0., 0., 0., 0.])\n",
    "p0 = T0[:3, 3]\n",
    "R0 = T0[:3, :3]\n",
    "print \"Transformation matrix:\\n\",cs2np(T0)\n",
    "print \"Position:\\n\", \"x:\",p0[0],\" y:\", p0[1], \" z:\", p0[2]\n",
    "print \"Distance from origin:\\n\", cs.np.linalg.norm(p0), \"m\""
   ]
  },
  {
   "cell_type": "code",
   "execution_count": 8,
   "metadata": {},
   "outputs": [],
   "source": [
    "joint_list, nvar, names, upper, lower = asd.get_joint_info(root_link, end_link)\n",
    "#dir(joint_list)\n",
    "#print(nvar)\n",
    "#print(names)\n",
    "#print(upper)\n",
    "#print(lower)\n"
   ]
  },
  {
   "cell_type": "code",
   "execution_count": 9,
   "metadata": {},
   "outputs": [
    {
     "name": "stdout",
     "output_type": "stream",
     "text": [
      "7\n",
      "7\n",
      "7\n"
     ]
    }
   ],
   "source": [
    "transformations = asd.get_spatial_transforms(root_link, end_link)\n",
    "#print(transformations)\n",
    "print(len(transformations))\n",
    "print(len(joint_list))"
   ]
  },
  {
   "cell_type": "code",
   "execution_count": 10,
   "metadata": {},
   "outputs": [],
   "source": [
    "filename = \"./examples/urdf/ur5.urdf\"\n",
    "root_link = \"base_link\"\n",
    "end_link = \"tool0\"\n",
    "\n",
    "robot_desc = URDF.from_xml_file(filename)\n",
    "\n",
    "chain = robot_desc.get_chain(root_link, end_link)\n",
    "dir(chain)\n",
    "for item in chain:\n",
    "    if item in robot_desc.joint_map:\n",
    "        joint = robot_desc.joint_map[item]"
   ]
  },
  {
   "cell_type": "code",
   "execution_count": null,
   "metadata": {},
   "outputs": [],
   "source": []
  },
  {
   "cell_type": "code",
   "execution_count": 11,
   "metadata": {},
   "outputs": [
    {
     "ename": "AttributeError",
     "evalue": "'NoneType' object has no attribute 'inertia'",
     "output_type": "error",
     "traceback": [
      "\u001b[0;31m---------------------------------------------------------------------------\u001b[0m",
      "\u001b[0;31mAttributeError\u001b[0m                            Traceback (most recent call last)",
      "\u001b[0;32m<ipython-input-11-676dbe4de59c>\u001b[0m in \u001b[0;36m<module>\u001b[0;34m()\u001b[0m\n\u001b[1;32m      9\u001b[0m \u001b[0;34m\u001b[0m\u001b[0m\n\u001b[1;32m     10\u001b[0m         \u001b[0;32mfor\u001b[0m \u001b[0mlink\u001b[0m \u001b[0;32min\u001b[0m \u001b[0mlink_list\u001b[0m\u001b[0;34m:\u001b[0m\u001b[0;34m\u001b[0m\u001b[0m\n\u001b[0;32m---> 11\u001b[0;31m             \u001b[0mI\u001b[0m \u001b[0;34m=\u001b[0m \u001b[0mlink\u001b[0m\u001b[0;34m.\u001b[0m\u001b[0minertial\u001b[0m\u001b[0;34m.\u001b[0m\u001b[0minertia\u001b[0m\u001b[0;34m\u001b[0m\u001b[0m\n\u001b[0m\u001b[1;32m     12\u001b[0m             \u001b[0;31m#print(I)\u001b[0m\u001b[0;34m\u001b[0m\u001b[0;34m\u001b[0m\u001b[0m\n\u001b[1;32m     13\u001b[0m             \u001b[0;31m#print(I[\"Ixx\"])\u001b[0m\u001b[0;34m\u001b[0m\u001b[0;34m\u001b[0m\u001b[0m\n",
      "\u001b[0;31mAttributeError\u001b[0m: 'NoneType' object has no attribute 'inertia'"
     ]
    }
   ],
   "source": [
    "chain = robot_desc.get_chain(root_link, end_link)\n",
    "link_list = []\n",
    "for item in chain:\n",
    "    if item in robot_desc.link_map:\n",
    "        link = robot_desc.link_map[item]\n",
    "        link_list += [link]\n",
    "\n",
    "        spatial_inertias = []\n",
    "\n",
    "        for link in link_list:\n",
    "            I = link.inertial.inertia\n",
    "            #print(I)\n",
    "            #print(I[\"Ixx\"])\n",
    "            #print(I.get(\"ixx\", None))\n",
    "            #print I\n",
    "            dir(I)"
   ]
  },
  {
   "cell_type": "code",
   "execution_count": null,
   "metadata": {},
   "outputs": [],
   "source": []
  }
 ],
 "metadata": {
  "kernelspec": {
   "display_name": "Python 2",
   "language": "python",
   "name": "python2"
  },
  "language_info": {
   "codemirror_mode": {
    "name": "ipython",
    "version": 2
   },
   "file_extension": ".py",
   "mimetype": "text/x-python",
   "name": "python",
   "nbconvert_exporter": "python",
   "pygments_lexer": "ipython2",
   "version": "2.7.12"
  }
 },
 "nbformat": 4,
 "nbformat_minor": 2
}
