{
 "cells": [
  {
   "cell_type": "code",
   "execution_count": 1,
   "metadata": {},
   "outputs": [],
   "source": [
    "import casadi as cs\n",
    "from urdf_parser_py.urdf import URDF, Pose\n",
    "import os # For current directory\n",
    "import urdf2casadi.urdfparser\n",
    "import urdf2casadi.geometry.plucker as plucker\n",
    "import numpy as np"
   ]
  },
  {
   "cell_type": "code",
   "execution_count": 2,
   "metadata": {},
   "outputs": [
    {
     "name": "stdout",
     "output_type": "stream",
     "text": [
      "./examples/urdf/ur5.urdf\n",
      "8\n"
     ]
    }
   ],
   "source": [
    "q = cs.SX.sym(\"q\", 7)\n",
    "q_dot = cs.SX.sym(\"q_dot\", 7)\n",
    "q_ddot = cs.SX.sym(\"q_ddot\", 7)\n",
    "\n",
    "\n",
    "asd = urdf2casadi.urdfparser.URDFparser()\n",
    "asd.from_file(\"./examples/urdf/ur5.urdf\")\n",
    "root = \"base_link\"\n",
    "tip = \"tool0\"\n",
    "\n",
    "joint_list, nvar, actuated_names, upper, lower = asd.get_joint_info(root, tip)\n",
    "i_X_0, joint_motion = asd.jcalc(root, tip, q, joint_list)\n",
    "f = asd.get_inverse_dynamics(root, tip)"
   ]
  },
  {
   "cell_type": "code",
   "execution_count": 3,
   "metadata": {},
   "outputs": [
    {
     "name": "stdout",
     "output_type": "stream",
     "text": [
      "[array([0., 0., 0., 0., 0., 0.]), SX(@1=0, [@1, @1, @1, @1, @1, @1])]\n"
     ]
    }
   ],
   "source": [
    "v = []\n",
    "a = []\n",
    "f = []\n",
    "v.append(np.zeros(6))#kan man bruke numpy eller vanlig lise?\n",
    "a.append([0., 0., 9.81, 0., 0., 0.]) #bruke numpy isteden? Og er 9.81 på riktig sted?\n",
    "motion_space = [1., 0., 0., 0., 0., 0.]\n",
    "#print(np.transpose(a[0]))\n",
    "#print(a[0])\n",
    "\n",
    "\n",
    "\n",
    "v.append(joint_motion[1]*q_dot[1])\n",
    "print(v)\n",
    "#vJ2 = cs.mtimes(motion_space,q_dot[0])\n",
    "#print(vJ2)\n",
    "\n",
    "\n",
    "\n",
    "#a.append(cs.mtimes(i_X_0[1], -np.transpose(a[0])) + cs.mtimes(motion_space, q_ddot[0]))\n",
    "#v.append(cs.mtimes(i_X_0[2], v[1]) + v[1])\n",
    "\n",
    "#a.append(cs.mtimes(i_X_0[2], a[1]) + cs.mtimes(motion_space,q_ddot[0]) + cs.mtimes(plucker.spatial_cross_product(v[2]),vJ))\n",
    "\n"
   ]
  },
  {
   "cell_type": "code",
   "execution_count": 4,
   "metadata": {},
   "outputs": [],
   "source": [
    "\n",
    "# urdf2casadi uses cs.MX and cs.SX, which can be hard to read as these are sparse matrices.\n",
    "# This short function just makes it so that the result will be a numpy matrix\n",
    "# Use for \n",
    "def cs2np(asd):\n",
    "    return cs.Function(\"temp\",[],[asd])()[\"o0\"].toarray()\n",
    "# NOTE: casadi imports numpy as np, so cs.np is numpy"
   ]
  },
  {
   "cell_type": "code",
   "execution_count": null,
   "metadata": {},
   "outputs": [],
   "source": []
  },
  {
   "cell_type": "code",
   "execution_count": 5,
   "metadata": {},
   "outputs": [
    {
     "ename": "NameError",
     "evalue": "name 'root_link' is not defined",
     "output_type": "error",
     "traceback": [
      "\u001b[0;31m---------------------------------------------------------------------------\u001b[0m",
      "\u001b[0;31mNameError\u001b[0m                                 Traceback (most recent call last)",
      "\u001b[0;32m<ipython-input-5-da66b033acb8>\u001b[0m in \u001b[0;36m<module>\u001b[0;34m()\u001b[0m\n\u001b[1;32m      1\u001b[0m \u001b[0;34m\u001b[0m\u001b[0m\n\u001b[1;32m      2\u001b[0m \u001b[0;31m#print asd.robot_desc\u001b[0m\u001b[0;34m\u001b[0m\u001b[0;34m\u001b[0m\u001b[0m\n\u001b[0;32m----> 3\u001b[0;31m \u001b[0mfk_dict\u001b[0m \u001b[0;34m=\u001b[0m \u001b[0masd\u001b[0m\u001b[0;34m.\u001b[0m\u001b[0mget_forward_kinematics\u001b[0m\u001b[0;34m(\u001b[0m\u001b[0mroot_link\u001b[0m\u001b[0;34m,\u001b[0m \u001b[0mend_link\u001b[0m\u001b[0;34m)\u001b[0m\u001b[0;34m\u001b[0m\u001b[0m\n\u001b[0m\u001b[1;32m      4\u001b[0m \u001b[0;32mprint\u001b[0m \u001b[0mfk_dict\u001b[0m\u001b[0;34m.\u001b[0m\u001b[0mkeys\u001b[0m\u001b[0;34m(\u001b[0m\u001b[0;34m)\u001b[0m\u001b[0;34m\u001b[0m\u001b[0m\n",
      "\u001b[0;31mNameError\u001b[0m: name 'root_link' is not defined"
     ]
    }
   ],
   "source": [
    "\n",
    "#print asd.robot_desc\n",
    "fk_dict = asd.get_forward_kinematics(root_link, end_link)\n",
    "print fk_dict.keys()"
   ]
  },
  {
   "cell_type": "code",
   "execution_count": null,
   "metadata": {},
   "outputs": [],
   "source": [
    "inertias = asd.get_spatial_inertias(root_link, end_link)\n",
    "print(len(inertias))"
   ]
  },
  {
   "cell_type": "code",
   "execution_count": null,
   "metadata": {},
   "outputs": [],
   "source": [
    "# CasADi MX symbol giving the joint symbols:\n",
    "q = fk_dict[\"q\"]\n",
    "# Upper limits of the joint values\n",
    "q_upper = fk_dict[\"upper\"]\n",
    "# Lower limits of the joint values\n",
    "q_lower = fk_dict[\"lower\"]\n",
    "# Joint names\n",
    "joint_names = fk_dict[\"joint_names\"]\n",
    "print \"Number of joints:\", q.size()[0]\n",
    "print \"Upper limits:\", q_upper\n",
    "print \"Lower limits:\", q_lower\n",
    "print \"Joint names:\", joint_names"
   ]
  },
  {
   "cell_type": "code",
   "execution_count": null,
   "metadata": {},
   "outputs": [],
   "source": [
    "T0 = fk_dict[\"T_fk\"]([0., 0., 0., 0., 0., 0.])\n",
    "p0 = T0[:3, 3]\n",
    "R0 = T0[:3, :3]\n",
    "print \"Transformation matrix:\\n\",cs2np(T0)\n",
    "print \"Position:\\n\", \"x:\",p0[0],\" y:\", p0[1], \" z:\", p0[2]\n",
    "print \"Distance from origin:\\n\", cs.np.linalg.norm(p0), \"m\""
   ]
  },
  {
   "cell_type": "code",
   "execution_count": null,
   "metadata": {},
   "outputs": [],
   "source": [
    "joint_list, nvar, names, upper, lower = asd.get_joint_info(root_link, end_link)\n",
    "#dir(joint_list)\n",
    "#print(nvar)\n",
    "#print(names)\n",
    "#print(upper)\n",
    "#print(lower)\n"
   ]
  },
  {
   "cell_type": "code",
   "execution_count": null,
   "metadata": {},
   "outputs": [],
   "source": [
    "transformations = asd.get_spatial_transforms(root_link, end_link)\n",
    "#print(transformations)\n",
    "print(len(transformations))\n",
    "print(len(joint_list))"
   ]
  },
  {
   "cell_type": "code",
   "execution_count": null,
   "metadata": {},
   "outputs": [],
   "source": [
    "filename = \"./examples/urdf/ur5.urdf\"\n",
    "root_link = \"base_link\"\n",
    "end_link = \"tool0\"\n",
    "\n",
    "robot_desc = URDF.from_xml_file(filename)\n",
    "\n",
    "chain = robot_desc.get_chain(root_link, end_link)\n",
    "dir(chain)\n",
    "for item in chain:\n",
    "    if item in robot_desc.joint_map:\n",
    "        joint = robot_desc.joint_map[item]"
   ]
  },
  {
   "cell_type": "code",
   "execution_count": null,
   "metadata": {},
   "outputs": [],
   "source": []
  },
  {
   "cell_type": "code",
   "execution_count": null,
   "metadata": {},
   "outputs": [],
   "source": [
    "chain = robot_desc.get_chain(root_link, end_link)\n",
    "link_list = []\n",
    "for item in chain:\n",
    "    if item in robot_desc.link_map:\n",
    "        link = robot_desc.link_map[item]\n",
    "        link_list += [link]\n",
    "\n",
    "        spatial_inertias = []\n",
    "\n",
    "        for link in link_list:\n",
    "            I = link.inertial.inertia\n",
    "            #print(I)\n",
    "            #print(I[\"Ixx\"])\n",
    "            #print(I.get(\"ixx\", None))\n",
    "            #print I\n",
    "            dir(I)"
   ]
  },
  {
   "cell_type": "code",
   "execution_count": null,
   "metadata": {},
   "outputs": [],
   "source": []
  },
  {
   "cell_type": "code",
   "execution_count": null,
   "metadata": {},
   "outputs": [],
   "source": []
  }
 ],
 "metadata": {
  "kernelspec": {
   "display_name": "Python 2",
   "language": "python",
   "name": "python2"
  },
  "language_info": {
   "codemirror_mode": {
    "name": "ipython",
    "version": 2
   },
   "file_extension": ".py",
   "mimetype": "text/x-python",
   "name": "python",
   "nbconvert_exporter": "python",
   "pygments_lexer": "ipython2",
   "version": "2.7.12"
  }
 },
 "nbformat": 4,
 "nbformat_minor": 2
}
