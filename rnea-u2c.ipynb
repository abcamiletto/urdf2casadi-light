{
 "cells": [
  {
   "cell_type": "code",
   "execution_count": 1,
   "metadata": {},
   "outputs": [],
   "source": [
    "import casadi as cs\n",
    "from urdf_parser_py.urdf import URDF, Pose\n",
    "import os # For current directory\n",
    "import urdf2casadi.urdfparser\n",
    "import urdf2casadi.geometry.plucker as plucker\n",
    "import numpy as np"
   ]
  },
  {
   "cell_type": "code",
   "execution_count": null,
   "metadata": {},
   "outputs": [],
   "source": []
  },
  {
   "cell_type": "code",
   "execution_count": 4,
   "metadata": {},
   "outputs": [
    {
     "name": "stdout",
     "output_type": "stream",
     "text": [
      "./examples/urdf/ur5.urdf\n"
     ]
    }
   ],
   "source": [
    "asd = urdf2casadi.urdfparser.URDFparser()\n",
    "robot_desc = asd.from_file(\"./examples/urdf/ur5.urdf\")\n",
    "root = \"base_link\"\n",
    "tip = \"upper_arm_link\""
   ]
  },
  {
   "cell_type": "code",
   "execution_count": 6,
   "metadata": {},
   "outputs": [
    {
     "name": "stdout",
     "output_type": "stream",
     "text": [
      "M2.0 5: \n",
      "[[0.246649, -0.306139], \n",
      " [-0.306139, 0.884902]]\n"
     ]
    }
   ],
   "source": [
    "#M = asd.get_jointspace_inertia_matrix(root, tip)\n",
    "M2point0 = asd.get_jointspace_inertia_matrix_2point0(root, tip)\n",
    "\n",
    "#M_num = M([-0.1,-0.1])\n",
    "#M_num2 = M([0.,0.])\n",
    "\n",
    "M20_num = M2point0([5.,5.])\n",
    "#M20_num2 = M2point0([0.,0.])\n",
    "\n",
    "#print \"M 0;\", M_num2\n",
    "#print \"M 5:\", M_num\n",
    "\n",
    "#print \"M2.0 0;\", M20_num2\n",
    "print \"M2.0 5:\", M20_num"
   ]
  },
  {
   "cell_type": "code",
   "execution_count": null,
   "metadata": {},
   "outputs": [],
   "source": []
  }
 ],
 "metadata": {
  "kernelspec": {
   "display_name": "Python 2",
   "language": "python",
   "name": "python2"
  },
  "language_info": {
   "codemirror_mode": {
    "name": "ipython",
    "version": 2
   },
   "file_extension": ".py",
   "mimetype": "text/x-python",
   "name": "python",
   "nbconvert_exporter": "python",
   "pygments_lexer": "ipython2",
   "version": "2.7.12"
  }
 },
 "nbformat": 4,
 "nbformat_minor": 2
}
